{
 "cells": [
  {
   "cell_type": "markdown",
   "metadata": {},
   "source": [
    "## Alley et al. 2023"
   ]
  },
  {
   "cell_type": "code",
   "execution_count": 1,
   "metadata": {},
   "outputs": [],
   "source": [
    "from sklearn import linear_model\n",
    "from sklearn.model_selection import train_test_split\n",
    "from statsmodels.discrete.discrete_model import Probit\n",
    "import numpy as np\n",
    "from scipy.stats import norm\n",
    "from scipy.optimize import brent\n",
    "import matplotlib.pyplot as plt"
   ]
  },
  {
   "cell_type": "code",
   "execution_count": 2,
   "metadata": {},
   "outputs": [],
   "source": [
    "n_ds = 100\n",
    "n_pts = 1000\n",
    "d = 50\n",
    "tau = 2\n",
    "rho = 0.5\n",
    "Sv = 1"
   ]
  },
  {
   "cell_type": "code",
   "execution_count": 3,
   "metadata": {},
   "outputs": [],
   "source": [
    "#generate data\n",
    "np.random.seed(6)\n",
    "\n",
    "X = []\n",
    "Z = []\n",
    "T = []\n",
    "Y_star = []\n",
    "Y = []\n",
    "U = []\n",
    "E = []\n",
    "V = []\n",
    "Bh = []\n",
    "Bg = []\n",
    "Bm = []\n",
    "B = []\n",
    "\n",
    "for i in range(n_ds):\n",
    "    x = np.random.multivariate_normal([0]*d, np.identity(d), size=n_pts)\n",
    "    u = np.random.normal(0, 1, size=n_pts)\n",
    "    e, v = np.random.multivariate_normal([0]*2, [[1, rho * Sv], [rho * Sv, Sv**2]], size=n_pts).T\n",
    "    bh = np.random.normal(0, 1)\n",
    "    bg = np.random.multivariate_normal([0]*d, np.identity(d))\n",
    "    bm = np.random.multivariate_normal([0]*d, np.identity(d))\n",
    "    b = np.random.normal(0, 1)\n",
    "    zeros1 = np.random.choice(range(d), size=d - 5, replace=False)\n",
    "    zeros2 = np.random.choice(range(d), size=d - 5, replace=False)\n",
    "    bg[zeros1] = 0\n",
    "    bm[zeros2] = 0\n",
    "    z = bh + u\n",
    "    t = list(map(lambda a: np.dot(bm, a), x)) + b * z + v\n",
    "    y_star = list(map(lambda a: np.dot(bg, a), x)) + tau * t + e\n",
    "    y = np.array(list(map(lambda x: int(x > 0), y_star)))\n",
    "    X.append(x)\n",
    "    Z.append(z)\n",
    "    T.append(t)\n",
    "    Y_star.append(y_star)\n",
    "    Y.append(y)\n",
    "    U.append(u)\n",
    "    E.append(e)\n",
    "    V.append(v)\n",
    "    Bh.append(bh)\n",
    "    Bg.append(bg)\n",
    "    Bm.append(bm)\n",
    "    B.append(b)"
   ]
  },
  {
   "cell_type": "markdown",
   "metadata": {},
   "source": [
    "## Homogeneous treatment effect (with endogeneity)"
   ]
  },
  {
   "cell_type": "markdown",
   "metadata": {},
   "source": [
    "### Probit_IV"
   ]
  },
  {
   "cell_type": "code",
   "execution_count": 4,
   "metadata": {},
   "outputs": [],
   "source": [
    "tau_hat = []\n",
    "for i in range(n_ds):\n",
    "    #1st linear regression for T\n",
    "    x_tRegr = np.concatenate((X[i], np.transpose([Z[i]])), axis=1)\n",
    "    t_regr = linear_model.LinearRegression(fit_intercept=False)\n",
    "    t_regr.fit(x_tRegr, T[i])\n",
    "    t_hat = t_regr.predict(x_tRegr)\n",
    "    v_hat = T[i] - t_hat\n",
    "    \n",
    "    #2nd probit regression for Y\n",
    "    x_yRegr = np.concatenate((X[i], np.transpose([T[i]])), axis=1)\n",
    "    y_prRegr = Probit(Y[i], x_yRegr).fit(disp=0)\n",
    "    y_hat = y_prRegr.predict(x_yRegr)\n",
    "    tau_hat.append(y_prRegr.params[-1])"
   ]
  },
  {
   "cell_type": "code",
   "execution_count": 5,
   "metadata": {},
   "outputs": [],
   "source": [
    "tau_err = abs(np.array(tau_hat) - tau)"
   ]
  },
  {
   "cell_type": "markdown",
   "metadata": {},
   "source": [
    "### Orthogonalized two-stage"
   ]
  },
  {
   "cell_type": "code",
   "execution_count": 6,
   "metadata": {},
   "outputs": [],
   "source": [
    "#log-likelihood definitions\n",
    "bigM = 1000\n",
    "def k(tau, rho, b, su, sv):\n",
    "    return np.sqrt(1 + 2 * rho * sv * tau + (sv**2 + su**2 * b**2) * tau**2)\n",
    "\n",
    "def f(tau, rho, r_hat, q_hat, T, b, su, sv, v):\n",
    "    if 1 - rho**2 <= 0:\n",
    "        return bigM\n",
    "    else:\n",
    "        return (norm.ppf(r_hat) * k(tau, rho, b, su, sv) + tau * (T - q_hat) + rho/sv * v)/np.sqrt(1 - rho**2)\n",
    "\n",
    "def l(tau, rho, Y, r_hat, q_hat, T, b, su, sv, v):\n",
    "    tmp = norm.cdf(f(tau, rho, r_hat, q_hat, T, b, su, sv, v))\n",
    "    if tmp == 0:\n",
    "        if Y == 0:\n",
    "            return 0\n",
    "        else:\n",
    "            return - bigM\n",
    "    elif tmp == 1:\n",
    "        if Y == 0:\n",
    "            return - bigM\n",
    "        else:\n",
    "            return 0\n",
    "    else:\n",
    "        return Y * np.log(tmp) + (1 - Y) * np.log(1 - tmp)"
   ]
  },
  {
   "cell_type": "code",
   "execution_count": 7,
   "metadata": {},
   "outputs": [],
   "source": [
    "#rho is a variable\n",
    "def lfR(rho, tau, Y, r_hat, q_hat, T, b, su, sv, v):\n",
    "    return -1/len(Y) * sum(l(tau, rho, Y[i], r_hat[i], q_hat[i], T[i], b, su, sv, v[i]) for i in range(len(Y)))\n",
    "\n",
    "#tau is a variable\n",
    "def lfT(tau, rho, Y, r_hat, q_hat, T, b, su, sv, v):\n",
    "    return -1/len(Y) * sum(l(tau, rho, Y[i], r_hat[i], q_hat[i], T[i], b, su, sv, v[i]) for i in range(len(Y)))"
   ]
  },
  {
   "cell_type": "code",
   "execution_count": null,
   "metadata": {},
   "outputs": [],
   "source": [
    "def minimizeLF(rho_init, data, niter=1):\n",
    "    rho_cur = rho_init\n",
    "    rho_lst = []\n",
    "    tau_lst = []\n",
    "    for i in range(niter):\n",
    "        #fix rho; find tau\n",
    "        resT = brent(lfT, args=(rho_cur, ) + data)\n",
    "        tau_cur = resT\n",
    "        tau_lst.append(tau_cur)\n",
    "        #fix tau; find rho\n",
    "        resR = brent(lfR, args=(tau_cur, ) + data)\n",
    "        rho_cur = resR\n",
    "        rho_lst.append(rho_cur)\n",
    "        if i > 1 and abs(tau_lst[-1] - tau_lst[-2]) <= 0.001 and abs(tau_lst[-1] - tau_lst[-2]) <= 0.001:\n",
    "            break\n",
    "    return tau_lst, rho_lst"
   ]
  },
  {
   "cell_type": "code",
   "execution_count": 67,
   "metadata": {},
   "outputs": [],
   "source": [
    "#for bootstrap; not currently used\n",
    "def BinaryCrossEntropy(y_true, y_pred):\n",
    "    y_pred = np.clip(y_pred, 1e-7, 1 - 1e-7)\n",
    "    term_0 = (1-y_true) * np.log(1-y_pred + 1e-7)\n",
    "    term_1 = y_true * np.log(y_pred + 1e-7)\n",
    "    return -np.mean(term_0+term_1, axis=0)"
   ]
  },
  {
   "cell_type": "code",
   "execution_count": null,
   "metadata": {},
   "outputs": [],
   "source": [
    "tau_hat1 = []\n",
    "rho_hat = []\n",
    "su_lst = []\n",
    "sv_lst = []\n",
    "b = 100\n",
    "su_true = 1\n",
    "sv_true = 1\n",
    "for i in range(n_ds):\n",
    "    #split sample into S1, S2, S3\n",
    "    S1, tmpS = train_test_split(range(len(X[i])), train_size=0.33, random_state=2) #sometimes might give S1 that is fully separable for probit\n",
    "    S2, S3 = train_test_split(range(len(tmpS)), train_size=0.5, random_state=2)\n",
    "    #fit r_hat(x) with probit of Y on X\n",
    "    r_prRegr = Probit(Y[i][S1], X[i][S1]).fit(disp=0)\n",
    "    r_hat = r_prRegr.predict(X[i])\n",
    "    #fit q_hat(x) with OLS of T on X\n",
    "    q_regr = linear_model.LinearRegression(fit_intercept=False)\n",
    "    q_regr.fit(X[i][S1], T[i][S1])\n",
    "    q_hat = q_regr.predict(X[i])\n",
    "    #fit h_hat(x) with OLS of Z on X\n",
    "    h_regr = linear_model.LinearRegression()\n",
    "    h_regr.fit(X[i][S2], Z[i][S2])\n",
    "    h_hat = h_regr.predict(X[i])\n",
    "    u_hat = Z[i] - h_hat\n",
    "    su_hat = np.std(u_hat)#np.sqrt(sum(u_hat**2)/n_pts)\n",
    "    #estimate m(x) and b using OLS (because m(x) is linear, p.11)\n",
    "    x_tRegr1 = np.concatenate((X[i], np.transpose([Z[i]])), axis=1)\n",
    "    t_regr1 = linear_model.LinearRegression(fit_intercept=False)\n",
    "    t_regr1.fit(x_tRegr1[S3], T[i][S3])\n",
    "    t_hat1 = t_regr1.predict(x_tRegr1)\n",
    "    v_hat1 = T[i] - t_hat1\n",
    "    sv_hat = np.std(v_hat1)#np.sqrt(sum(v_hat1**2)/n_pts)\n",
    "    b_hat = t_regr1.coef_[-1]\n",
    "    data = (Y[i], r_hat, q_hat, T[i], b_hat, su_hat, sv_hat, v_hat1)\n",
    "    try:\n",
    "        tau_mle, rho_mle = minimizeLF(0, data, niter=100)\n",
    "    except:\n",
    "        print(i)\n",
    "        break\n",
    "    tau_hat1.append(tau_mle[-1])\n",
    "    rho_hat.append(rho_mle[-1])"
   ]
  },
  {
   "cell_type": "code",
   "execution_count": 10,
   "metadata": {},
   "outputs": [],
   "source": [
    "tau_err1 = abs(np.array(tau_hat1) - tau)"
   ]
  },
  {
   "cell_type": "markdown",
   "metadata": {},
   "source": [
    "### Comparison"
   ]
  },
  {
   "cell_type": "code",
   "execution_count": null,
   "metadata": {},
   "outputs": [
    {
     "data": {
      "text/plain": [
       "{'whiskers': [<matplotlib.lines.Line2D at 0x74c4dc38c070>,\n",
       "  <matplotlib.lines.Line2D at 0x74c4dc399c30>,\n",
       "  <matplotlib.lines.Line2D at 0x74c4dc38add0>,\n",
       "  <matplotlib.lines.Line2D at 0x74c4dc37c4f0>],\n",
       " 'caps': [<matplotlib.lines.Line2D at 0x74c4dc399300>,\n",
       "  <matplotlib.lines.Line2D at 0x74c4dc399870>,\n",
       "  <matplotlib.lines.Line2D at 0x74c4dc37fca0>,\n",
       "  <matplotlib.lines.Line2D at 0x74c4dc37faf0>],\n",
       " 'boxes': [<matplotlib.lines.Line2D at 0x74c4dc38c790>,\n",
       "  <matplotlib.lines.Line2D at 0x74c4dc38b7f0>],\n",
       " 'medians': [<matplotlib.lines.Line2D at 0x74c4dc38b820>,\n",
       "  <matplotlib.lines.Line2D at 0x74c4a0237310>],\n",
       " 'fliers': [<matplotlib.lines.Line2D at 0x74c4dc38ba00>,\n",
       "  <matplotlib.lines.Line2D at 0x74c4a0237190>],\n",
       " 'means': []}"
      ]
     },
     "execution_count": 57,
     "metadata": {},
     "output_type": "execute_result"
    },
    {
     "data": {
      "image/png": "[encoded data removed]",
      "text/plain": [
       "<Figure size 640x480 with 1 Axes>"
      ]
     },
     "metadata": {},
     "output_type": "display_data"
    }
   ],
   "source": [
    "#compare estimation errors for the two methods; left - two-stage, right - probit IV\n",
    "plt.boxplot([tau_err1, tau_err[np.argwhere(tau_err < 100)].flatten()])"
   ]
  }
 ],
 "metadata": {
  "kernelspec": {
   "display_name": "Python 3",
   "language": "python",
   "name": "python3"
  },
  "language_info": {
   "codemirror_mode": {
    "name": "ipython",
    "version": 3
   },
   "file_extension": ".py",
   "mimetype": "text/x-python",
   "name": "python",
   "nbconvert_exporter": "python",
   "pygments_lexer": "ipython3",
   "version": "3.10.12"
  }
 },
 "nbformat": 4,
 "nbformat_minor": 2
}
