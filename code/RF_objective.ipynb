{
 "cells": [
  {
   "cell_type": "code",
   "execution_count": 1,
   "metadata": {},
   "outputs": [],
   "source": [
    "import numpy as np\n",
    "import pandas as pd\n",
    "from sklearn.model_selection import train_test_split\n",
    "from sklearn import linear_model\n",
    "from sklearn.ensemble import RandomForestRegressor\n",
    "import xgboost as xgb\n",
    "from sklearn import metrics\n",
    "from sklearn.model_selection import cross_val_score\n",
    "from gurobipy import *\n",
    "#from ucimlrepo import fetch_ucirepo"
   ]
  },
  {
   "cell_type": "markdown",
   "metadata": {},
   "source": [
    "## Housing"
   ]
  },
  {
   "cell_type": "code",
   "execution_count": 2,
   "metadata": {},
   "outputs": [],
   "source": [
    "df = pd.read_csv('../data/kc_house_data.csv')"
   ]
  },
  {
   "cell_type": "code",
   "execution_count": 3,
   "metadata": {},
   "outputs": [
    {
     "name": "stderr",
     "output_type": "stream",
     "text": [
      "C:\\Users\\atevs\\AppData\\Local\\Temp\\ipykernel_12928\\4109102851.py:10: SettingWithCopyWarning: \n",
      "A value is trying to be set on a copy of a slice from a DataFrame\n",
      "\n",
      "See the caveats in the documentation: https://pandas.pydata.org/pandas-docs/stable/user_guide/indexing.html#returning-a-view-versus-a-copy\n",
      "  df_dm['age_rnv'][df_dm['age_rnv'].isnull()]=0\n"
     ]
    }
   ],
   "source": [
    "df_dm=df.copy()\n",
    "# just take the year from the date column\n",
    "df_dm['sales_yr']=df_dm['date'].astype(str).str[:4]\n",
    "\n",
    "# add the age of the buildings when the houses were sold as a new column\n",
    "df_dm['age']=df_dm['sales_yr'].astype(int)-df_dm['yr_built']\n",
    "# add the age of the renovation when the houses were sold as a new column\n",
    "df_dm['age_rnv']=0\n",
    "df_dm['age_rnv']=df_dm['sales_yr'][df_dm['yr_renovated']!=0].astype(int)-df_dm['yr_renovated'][df_dm['yr_renovated']!=0]\n",
    "df_dm['age_rnv'][df_dm['age_rnv'].isnull()]=0\n",
    "\n",
    "# partition the age into bins\n",
    "bins = [-2,0,5,10,25,50,75,100,100000]\n",
    "labels = ['<1','1-5','6-10','11-25','26-50','51-75','76-100','>100']\n",
    "df_dm['age_binned'] = pd.cut(df_dm['age'], bins=bins, labels=labels)\n",
    "# partition the age_rnv into bins\n",
    "bins = [-2,0,5,10,25,50,75,100000]\n",
    "labels = ['<1','1-5','6-10','11-25','26-50','51-75','>75']\n",
    "df_dm['age_rnv_binned'] = pd.cut(df_dm['age_rnv'], bins=bins, labels=labels)\n",
    "\n",
    "# transform the factor values to be able to use in the model\n",
    "df_dm = pd.get_dummies(df_dm, columns=['age_binned','age_rnv_binned'])"
   ]
  },
  {
   "cell_type": "code",
   "execution_count": 4,
   "metadata": {},
   "outputs": [],
   "source": [
    "features = ['bedrooms','bathrooms','sqft_living','sqft_basement','grade','zipcode','lat','long','sqft_lot','waterfront',]"
   ]
  },
  {
   "cell_type": "markdown",
   "metadata": {},
   "source": [
    "### Optimization model"
   ]
  },
  {
   "cell_type": "code",
   "execution_count": 5,
   "metadata": {},
   "outputs": [],
   "source": [
    "df_lots = pd.DataFrame({\"zipcode\": [98108, 98011, 98033, 98004, 98053, 98136, 98004, 98019, 98155, 98115],\n",
    "                       \"lat\": [47.5521, 47.7834, 47.6939, 47.6132, 47.6573, 47.5532, 47.6215, 47.7361, 47.7494, 47.6899],\n",
    "                       \"lon\": [-122.236, -122.229, -122.01, -122.273, -122.143, -122.321, -122.277, -121.928, -122.214, -122.281],\n",
    "                       \"sqftlot\": [3480, 5230, 10542, 900, 4560, 7280, 6780, 9873, 2560, 1080],\n",
    "                       \"water\": [0, 0, 0, 0, 0, 0, 0, 0, 0, 1]})\n",
    "c_bed = 10000\n",
    "c_bath = 20000\n",
    "c_base = 60\n",
    "c_lot = [250000] * 10\n",
    "c_grade = [88.45, 98.30, 109.03, 126.59, 148.11, 169.73, 231.25, 330.81, 380.45]\n",
    "B = 450000"
   ]
  },
  {
   "cell_type": "code",
   "execution_count": 6,
   "metadata": {},
   "outputs": [],
   "source": [
    "class RFOptimizer:\n",
    "    def __init__(self, T) -> None:\n",
    "        self.T = T\n",
    "        self.rf = RandomForestRegressor(n_estimators=T, random_state=137)\n",
    "\n",
    "    def loadData(self, df, features, outcome: str):\n",
    "        self.df = df\n",
    "        self.outcome = outcome\n",
    "        self.features = features\n",
    "\n",
    "    def trainRF(self, tr_size=0.7):\n",
    "        self.train_data, self.test_data = train_test_split(self.df, train_size = tr_size, random_state=4)\n",
    "        self.rf.fit(self.train_data[self.features], self.train_data[self.outcome])\n",
    "        self.trees = self.rf.estimators_ #just a \"reference\" for convenience\n",
    "\n",
    "        print((\"R-squared (train) {r2:.3f}\").format(r2=self.rf.score(self.train_data[self.features], self.train_data[self.outcome])))\n",
    "        print((\"R-squared (trest) {r2:.3f}\").format(r2=self.rf.score(self.test_data[self.features], self.test_data[self.outcome])))\n",
    "\n",
    "    def buildOptModel(self, A, B, c_bed, c_bath, c_base, c_lot, c_grade):\n",
    "        self.m = Model()\n",
    "        self.m.params.NonConvex = 2\n",
    "        M = max(self.df[features].max())\n",
    "\n",
    "    #Init variables\n",
    "        #data-specific block\n",
    "        self.z_grade = self.m.addVars(len(c_grade), vtype=GRB.BINARY, name=\"z_grade\")\n",
    "        self.u = self.m.addVars(len(A), vtype=GRB.BINARY, name=\"u_lot\")\n",
    "        self.z_bed = self.m.addVar(vtype=GRB.INTEGER, name=\"z_bed\")\n",
    "        self.z_bath = self.m.addVar(vtype=GRB.INTEGER, name=\"z_bath\")\n",
    "        self.z_size = self.m.addVar(vtype=GRB.CONTINUOUS, name=\"z_size\")\n",
    "        self.z_base = self.m.addVar(vtype=GRB.CONTINUOUS, name=\"z_base\")\n",
    "        self.ld = self.m.addVars(len(self.train_data), vtype=GRB.CONTINUOUS, name=\"ld\")\n",
    "        w = [A[\"zipcode\"] * np.array(self.u.values()), A[\"lat\"] * np.array(self.u.values()), A[\"lon\"] * np.array(self.u.values()), \n",
    "             A[\"sqftlot\"] * np.array(self.u.values()), A[\"water\"] * np.array(self.u.values())]\n",
    "        for_splits = [self.z_bed, self.z_bath, self.z_size, self.z_base, np.dot(self.z_grade.values(), range(4, 13)), sum(w[0]), sum(w[1]), sum(w[2]), sum(w[3]), sum(w[4])]\n",
    "\n",
    "        #RF variables\n",
    "        self.q = {}\n",
    "        self.leaf_parents = []#dict containing leaf: parent pairs for each tree\n",
    "        for t in range(self.T):\n",
    "            leaf_parentsd = {}\n",
    "            for i in range(len(self.rf.estimators_[t].tree_.feature)):\n",
    "                if self.trees[t].tree_.children_left[i] > -1:\n",
    "                    self.q[t, i, self.trees[t].tree_.children_left[i]] = self.m.addVar(vtype=GRB.BINARY, name=\"q_%d_%d_%d(l)\" % (t, i, self.trees[t].tree_.children_left[i]))\n",
    "                    self.q[t, i, self.trees[t].tree_.children_right[i]] = self.m.addVar(vtype=GRB.BINARY, name=\"q_%d_%d_%d(l)\" % (t, i, self.trees[t].tree_.children_right[i]))\n",
    "                    l = self.trees[t].tree_.children_left[i]\n",
    "                    r = self.trees[t].tree_.children_right[i]\n",
    "                    if self.trees[t].tree_.feature[l] == -2: #if left child a leaf add to leaves\n",
    "                        leaf_parentsd[l] = i\n",
    "                    if self.trees[t].tree_.feature[r] == -2: #if right child a leaf add to leaves\n",
    "                        leaf_parentsd[r] = i\n",
    "            self.leaf_parents.append(leaf_parentsd)\n",
    "    \n",
    "        self.m.update()\n",
    "\n",
    "        #RF structure constraints\n",
    "        for t in range(self.T):\n",
    "            for i in range(len(self.rf.estimators_[t].tree_.feature)):\n",
    "                x = self.trees[t].tree_.feature[i]\n",
    "                b = self.trees[t].tree_.value[i][0][0]\n",
    "                if x > -2:\n",
    "                    l = self.trees[t].tree_.children_left[i]\n",
    "                    r = self.trees[t].tree_.children_right[i]\n",
    "                    self.m.addConstr(for_splits[x] - 10*M*(1 - self.q[t, i, l]) <= b) #assuming left is true\n",
    "                    self.m.addConstr(for_splits[x] + 10*M*(1 - self.q[t, i, r]) >= b) #assuming left is true\n",
    "                    if self.trees[t].tree_.children_right[l] > -1:\n",
    "                        self.m.addConstr(self.q[t, l, self.trees[t].tree_.children_left[l]] + self.q[t, l, self.trees[t].tree_.children_right[l]] == self.q[t, i, l])\n",
    "                    if self.trees[t].tree_.children_right[r] > -1:\n",
    "                        self.m.addConstr(self.q[t, r, self.trees[t].tree_.children_left[r]] + self.q[t, r, self.trees[t].tree_.children_right[r]] == self.q[t, i, r])\n",
    "            self.m.addConstr(quicksum(self.q[t, self.leaf_parents[t][i], i] for i in self.leaf_parents[t].keys()) == 1)\n",
    "\n",
    "        #application constraints\n",
    "        self.m.addConstr(self.u.sum() == 1)\n",
    "        self.m.addConstr(c_bed * self.z_bed + c_bath * self.z_bath + c_base * self.z_base + np.dot(c_lot, self.u.values()) \n",
    "                         + self.z_size * np.dot(c_grade, self.z_grade.values()) <= B)\n",
    "        self.m.addConstr(self.z_size <= for_splits[8])\n",
    "        self.m.addConstr(self.z_grade.sum() == 1)\n",
    "        self.m.addConstr(self.z_bed == np.dot(self.ld.values(), self.train_data[\"bedrooms\"]))\n",
    "        self.m.addConstr(self.z_bath == np.dot(self.ld.values(), self.train_data[\"bathrooms\"]))\n",
    "        self.m.addConstr(self.z_size == np.dot(self.ld.values(), self.train_data[\"sqft_living\"]))\n",
    "        self.m.addConstr(self.z_base == np.dot(self.ld.values(), self.train_data[\"sqft_basement\"]))\n",
    "        self.m.addConstr(self.ld.sum() == 1)\n",
    "\n",
    "        self.m.setObjective(1/self.T * quicksum(self.trees[t].tree_.value[i][0][0] * self.q[t, self.leaf_parents[t][i], i] for t in range(self.T) for i in self.leaf_parents[t].keys()), GRB.MAXIMIZE)\n",
    "\n",
    "    def solve(self):\n",
    "        self.m.optimize()\n",
    "\n",
    "    def printSol(self):\n",
    "        print(\"Buying lot %d\" % sum([self.u[i].x * i for i in range(len(self.u))]))\n",
    "        print(\"Bedrooms: %g\" % self.z_bed.x)\n",
    "        print(\"Bathrooms: %g\" % self.z_bath.x)\n",
    "        print(\"Basement size: %g\" % self.z_base.x)\n",
    "        print(\"Sqft living: %g\" % self.z_size.x)\n",
    "        print(\"Grade: %d\" % sum([self.z_grade[i].x * (i + 4) for i in range(len(self.z_grade))]))\n",
    "        for i in range(len(self.train_data)):\n",
    "            if self.ld[i].x > 0.001:\n",
    "                print(self.train_data.iloc[i])\n",
    "                print(self.ld[i].x)"
   ]
  },
  {
   "cell_type": "code",
   "execution_count": 7,
   "metadata": {},
   "outputs": [],
   "source": [
    "optRF = RFOptimizer(10)\n",
    "optRF.loadData(df_dm, features, \"price\")"
   ]
  },
  {
   "cell_type": "code",
   "execution_count": 8,
   "metadata": {},
   "outputs": [
    {
     "name": "stdout",
     "output_type": "stream",
     "text": [
      "R-squared (train) 0.974\n",
      "R-squared (trest) 0.848\n"
     ]
    }
   ],
   "source": [
    "optRF.trainRF(tr_size=0.7)"
   ]
  },
  {
   "cell_type": "code",
   "execution_count": 9,
   "metadata": {},
   "outputs": [
    {
     "name": "stdout",
     "output_type": "stream",
     "text": [
      "Set parameter Username\n",
      "Academic license - for non-commercial use only - expires 2025-10-08\n",
      "Set parameter NonConvex to value 2\n"
     ]
    }
   ],
   "source": [
    "optRF.buildOptModel(df_lots, B, c_bed, c_bath, c_base, c_lot, c_grade)"
   ]
  },
  {
   "cell_type": "code",
   "execution_count": 10,
   "metadata": {},
   "outputs": [
    {
     "name": "stdout",
     "output_type": "stream",
     "text": [
      "Gurobi Optimizer version 10.0.2 build v10.0.2rc0 (win64)\n",
      "\n",
      "CPU model: Intel(R) Xeon(R) W-10855M CPU @ 2.80GHz, instruction set [SSE2|AVX|AVX2]\n",
      "Thread count: 6 physical cores, 12 logical processors, using up to 12 threads\n",
      "\n",
      "Optimize a model with 278537 rows, 200838 columns and 1852572 nonzeros\n",
      "Model fingerprint: 0x506f91f8\n",
      "Model has 1 quadratic constraint\n",
      "Variable types: 15131 continuous, 185707 integer (185705 binary)\n",
      "Coefficient statistics:\n",
      "  Matrix range     [5e-01, 2e+07]\n",
      "  QMatrix range    [9e+01, 4e+02]\n",
      "  QLMatrix range   [6e+01, 3e+05]\n",
      "  Objective range  [8e+03, 8e+05]\n",
      "  Bounds range     [1e+00, 1e+00]\n",
      "  RHS range        [1e+00, 2e+07]\n",
      "  QRHS range       [5e+05, 5e+05]\n",
      "Presolve removed 278529 rows and 191720 columns\n",
      "Presolve time: 0.66s\n",
      "Presolved: 18 rows, 9127 columns, 42162 nonzeros\n",
      "Variable types: 9106 continuous, 21 integer (19 binary)\n",
      "Found heuristic solution: objective 275730.00000\n",
      "\n",
      "Explored 0 nodes (0 simplex iterations) in 0.78 seconds (0.55 work units)\n",
      "Thread count was 12 (of 12 available processors)\n",
      "\n",
      "Solution count 1: 275730 \n",
      "\n",
      "Optimal solution found (tolerance 1.00e-04)\n",
      "Best objective 2.757300000000e+05, best bound 2.757300000000e+05, gap 0.0000%\n"
     ]
    }
   ],
   "source": [
    "optRF.solve()"
   ]
  },
  {
   "cell_type": "code",
   "execution_count": 11,
   "metadata": {},
   "outputs": [
    {
     "name": "stdout",
     "output_type": "stream",
     "text": [
      "Buying lot 3\n",
      "Bedrooms: -0\n",
      "Bathrooms: -0\n",
      "Basement size: 0\n",
      "Sqft living: 844\n",
      "Grade: 4\n",
      "id                           9543000205\n",
      "date                    20150413T000000\n",
      "price                          139950.0\n",
      "bedrooms                              0\n",
      "bathrooms                           0.0\n",
      "sqft_living                         844\n",
      "sqft_lot                           4269\n",
      "floors                              1.0\n",
      "waterfront                            0\n",
      "view                                  0\n",
      "condition                             4\n",
      "grade                                 7\n",
      "sqft_above                          844\n",
      "sqft_basement                         0\n",
      "yr_built                           1913\n",
      "yr_renovated                          0\n",
      "zipcode                           98001\n",
      "lat                             47.2781\n",
      "long                            -122.25\n",
      "sqft_living15                      1380\n",
      "sqft_lot15                         9600\n",
      "sales_yr                           2015\n",
      "age                                 102\n",
      "age_rnv                             0.0\n",
      "age_binned_<1                     False\n",
      "age_binned_1-5                    False\n",
      "age_binned_6-10                   False\n",
      "age_binned_11-25                  False\n",
      "age_binned_26-50                  False\n",
      "age_binned_51-75                  False\n",
      "age_binned_76-100                 False\n",
      "age_binned_>100                    True\n",
      "age_rnv_binned_<1                  True\n",
      "age_rnv_binned_1-5                False\n",
      "age_rnv_binned_6-10               False\n",
      "age_rnv_binned_11-25              False\n",
      "age_rnv_binned_26-50              False\n",
      "age_rnv_binned_51-75              False\n",
      "age_rnv_binned_>75                False\n",
      "Name: 14423, dtype: object\n",
      "1.0\n"
     ]
    }
   ],
   "source": [
    "optRF.printSol()"
   ]
  },
  {
   "cell_type": "code",
   "execution_count": null,
   "metadata": {},
   "outputs": [],
   "source": []
  }
 ],
 "metadata": {
  "kernelspec": {
   "display_name": "Python 3",
   "language": "python",
   "name": "python3"
  },
  "language_info": {
   "codemirror_mode": {
    "name": "ipython",
    "version": 3
   },
   "file_extension": ".py",
   "mimetype": "text/x-python",
   "name": "python",
   "nbconvert_exporter": "python",
   "pygments_lexer": "ipython3",
   "version": "3.11.4"
  }
 },
 "nbformat": 4,
 "nbformat_minor": 2
}
