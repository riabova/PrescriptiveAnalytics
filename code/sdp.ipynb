{
 "cells": [
  {
   "cell_type": "code",
   "execution_count": 2,
   "metadata": {},
   "outputs": [],
   "source": [
    "using SDDP"
   ]
  },
  {
   "cell_type": "code",
   "execution_count": 3,
   "metadata": {},
   "outputs": [
    {
     "data": {
      "text/plain": [
       "Root\n",
       " 0\n",
       "Nodes\n",
       " 1\n",
       " 2\n",
       " 3\n",
       "Arcs\n",
       " 0 => 1 w.p. 1.0\n",
       " 1 => 2 w.p. 1.0\n",
       " 2 => 3 w.p. 1.0"
      ]
     },
     "metadata": {},
     "output_type": "display_data"
    }
   ],
   "source": [
    "graph = SDDP.LinearGraph(3)"
   ]
  },
  {
   "cell_type": "code",
   "execution_count": 2,
   "metadata": {},
   "outputs": [
    {
     "name": "stderr",
     "output_type": "stream",
     "text": [
      "\u001b[32m\u001b[1m    Updating\u001b[22m\u001b[39m registry at `C:\\Users\\atevs\\.julia\\registries\\General.toml`\n",
      "\u001b[32m\u001b[1m   Resolving\u001b[22m\u001b[39m package versions...\n",
      "\u001b[32m\u001b[1m   Installed\u001b[22m\u001b[39m Conda ─────────────── v1.10.2\n",
      "\u001b[32m\u001b[1m   Installed\u001b[22m\u001b[39m IrrationalConstants ─ v0.2.2\n",
      "\u001b[32m\u001b[1m   Installed\u001b[22m\u001b[39m LoggingExtras ─────── v1.0.3\n",
      "\u001b[32m\u001b[1m   Installed\u001b[22m\u001b[39m DiffRules ─────────── v1.15.1\n",
      "\u001b[32m\u001b[1m   Installed\u001b[22m\u001b[39m ZMQ ───────────────── v1.2.6\n",
      "\u001b[32m\u001b[1m   Installed\u001b[22m\u001b[39m JSON ──────────────── v0.21.4\n",
      "\u001b[32m\u001b[1m   Installed\u001b[22m\u001b[39m Preferences ───────── v1.4.3\n",
      "\u001b[32m\u001b[1m   Installed\u001b[22m\u001b[39m MutableArithmetics ── v1.4.5\n",
      "\u001b[32m\u001b[1m   Installed\u001b[22m\u001b[39m Bzip2_jll ─────────── v1.0.8+1\n",
      "\u001b[32m\u001b[1m   Installed\u001b[22m\u001b[39m BitFlags ──────────── v0.1.9\n",
      "\u001b[32m\u001b[1m   Installed\u001b[22m\u001b[39m CodecBzip2 ────────── v0.8.3\n",
      "\u001b[32m\u001b[1m   Installed\u001b[22m\u001b[39m Parsers ───────────── v2.8.1\n",
      "\u001b[32m\u001b[1m   Installed\u001b[22m\u001b[39m SimpleBufferStream ── v1.1.0\n",
      "\u001b[32m\u001b[1m   Installed\u001b[22m\u001b[39m OpenSSL_jll ───────── v3.0.14+0\n",
      "\u001b[32m\u001b[1m   Installed\u001b[22m\u001b[39m BenchmarkTools ────── v1.5.0\n",
      "\u001b[32m\u001b[1m   Installed\u001b[22m\u001b[39m SpecialFunctions ──── v2.4.0\n",
      "\u001b[32m\u001b[1m   Installed\u001b[22m\u001b[39m TimerOutputs ──────── v0.5.24\n",
      "\u001b[32m\u001b[1m   Installed\u001b[22m\u001b[39m JLLWrappers ───────── v1.5.0\n",
      "\u001b[32m\u001b[1m   Installed\u001b[22m\u001b[39m StaticArraysCore ──── v1.4.3\n",
      "\u001b[32m\u001b[1m   Installed\u001b[22m\u001b[39m ConcurrentUtilities ─ v2.4.2\n",
      "\u001b[32m\u001b[1m   Installed\u001b[22m\u001b[39m NaNMath ───────────── v1.0.2\n",
      "\u001b[32m\u001b[1m   Installed\u001b[22m\u001b[39m StaticArrays ──────── v1.9.7\n",
      "\u001b[32m\u001b[1m   Installed\u001b[22m\u001b[39m RecipesBase ───────── v1.3.4\n",
      "\u001b[32m\u001b[1m   Installed\u001b[22m\u001b[39m PrecompileTools ───── v1.2.1\n",
      "\u001b[32m\u001b[1m   Installed\u001b[22m\u001b[39m TranscodingStreams ── v0.11.0\n",
      "\u001b[32m\u001b[1m   Installed\u001b[22m\u001b[39m OrderedCollections ── v1.6.3\n",
      "\u001b[32m\u001b[1m   Installed\u001b[22m\u001b[39m OpenSSL ───────────── v1.4.3\n",
      "\u001b[32m\u001b[1m   Installed\u001b[22m\u001b[39m URIs ──────────────── v1.5.1\n",
      "\u001b[32m\u001b[1m   Installed\u001b[22m\u001b[39m ZeroMQ_jll ────────── v4.3.5+0\n",
      "\u001b[32m\u001b[1m   Installed\u001b[22m\u001b[39m HTTP ──────────────── v1.10.8\n",
      "\u001b[32m\u001b[1m   Installed\u001b[22m\u001b[39m Reexport ──────────── v1.2.2\n",
      "\u001b[32m\u001b[1m   Installed\u001b[22m\u001b[39m Osi_jll ───────────── v0.10800.600+0\n",
      "\u001b[32m\u001b[1m   Installed\u001b[22m\u001b[39m LogExpFunctions ───── v0.3.28\n",
      "\u001b[32m\u001b[1m   Installed\u001b[22m\u001b[39m ChainRulesCore ────── v1.24.0\n",
      "\u001b[32m\u001b[1m   Installed\u001b[22m\u001b[39m MbedTLS ───────────── v1.1.9\n",
      "\u001b[32m\u001b[1m   Installed\u001b[22m\u001b[39m ForwardDiff ───────── v0.10.36\n",
      "\u001b[32m\u001b[1m   Installed\u001b[22m\u001b[39m MacroTools ────────── v0.5.13\n",
      "\u001b[32m\u001b[1m   Installed\u001b[22m\u001b[39m Compat ────────────── v4.15.0\n",
      "\u001b[32m\u001b[1m   Installed\u001b[22m\u001b[39m InverseFunctions ──── v0.1.14\n",
      "\u001b[32m\u001b[1m   Installed\u001b[22m\u001b[39m CoinUtils_jll ─────── v200.1100.400+0\n",
      "\u001b[32m\u001b[1m   Installed\u001b[22m\u001b[39m ExprTools ─────────── v0.1.10\n",
      "\u001b[32m\u001b[1m   Installed\u001b[22m\u001b[39m CodecZlib ─────────── v0.7.5\n",
      "\u001b[32m\u001b[1m   Installed\u001b[22m\u001b[39m ExceptionUnwrapping ─ v0.1.10\n",
      "\u001b[32m\u001b[1m   Installed\u001b[22m\u001b[39m ChangesOfVariables ── v0.1.8\n",
      "\u001b[32m\u001b[1m   Installed\u001b[22m\u001b[39m DataStructures ────── v0.18.20\n",
      "\u001b[32m\u001b[1m   Installed\u001b[22m\u001b[39m MathOptInterface ──── v1.31.0\n",
      "\u001b[32m\u001b[1m   Installed\u001b[22m\u001b[39m SDDP ──────────────── v1.7.0\n",
      "\u001b[32m\u001b[1m    Updating\u001b[22m\u001b[39m `C:\\Users\\atevs\\.julia\\environments\\v1.8\\Project.toml`\n",
      " \u001b[90m [f4570300] \u001b[39m\u001b[92m+ SDDP v1.7.0\u001b[39m\n",
      "\u001b[32m\u001b[1m    Updating\u001b[22m\u001b[39m `C:\\Users\\atevs\\.julia\\environments\\v1.8\\Manifest.toml`\n",
      " \u001b[90m [6e4b80f9] \u001b[39m\u001b[93m↑ BenchmarkTools v1.3.2 ⇒ v1.5.0\u001b[39m\n",
      " \u001b[90m [d1d4a3ce] \u001b[39m\u001b[92m+ BitFlags v0.1.9\u001b[39m\n",
      " \u001b[90m [d360d2e6] \u001b[39m\u001b[93m↑ ChainRulesCore v1.15.6 ⇒ v1.24.0\u001b[39m\n",
      " \u001b[90m [9e997f8a] \u001b[39m\u001b[93m↑ ChangesOfVariables v0.1.4 ⇒ v0.1.8\u001b[39m\n",
      " \u001b[90m [523fee87] \u001b[39m\u001b[93m↑ CodecBzip2 v0.7.2 ⇒ v0.8.3\u001b[39m\n",
      " \u001b[90m [944b1d66] \u001b[39m\u001b[93m↑ CodecZlib v0.7.0 ⇒ v0.7.5\u001b[39m\n",
      " \u001b[90m [34da2185] \u001b[39m\u001b[93m↑ Compat v4.5.0 ⇒ v4.15.0\u001b[39m\n",
      " \u001b[90m [f0e56b4a] \u001b[39m\u001b[92m+ ConcurrentUtilities v2.4.2\u001b[39m\n",
      " \u001b[90m [8f4d0f93] \u001b[39m\u001b[93m↑ Conda v1.7.0 ⇒ v1.10.2\u001b[39m\n",
      " \u001b[90m [864edb3b] \u001b[39m\u001b[93m↑ DataStructures v0.18.13 ⇒ v0.18.20\u001b[39m\n",
      " \u001b[90m [b552c78f] \u001b[39m\u001b[93m↑ DiffRules v1.12.2 ⇒ v1.15.1\u001b[39m\n",
      " \u001b[90m [460bff9d] \u001b[39m\u001b[92m+ ExceptionUnwrapping v0.1.10\u001b[39m\n",
      " \u001b[90m [e2ba6199] \u001b[39m\u001b[92m+ ExprTools v0.1.10\u001b[39m\n",
      " \u001b[90m [f6369f11] \u001b[39m\u001b[93m↑ ForwardDiff v0.10.34 ⇒ v0.10.36\u001b[39m\n",
      " \u001b[90m [cd3eb016] \u001b[39m\u001b[92m+ HTTP v1.10.8\u001b[39m\n",
      " \u001b[90m [3587e190] \u001b[39m\u001b[93m↑ InverseFunctions v0.1.8 ⇒ v0.1.14\u001b[39m\n",
      " \u001b[90m [92d709cd] \u001b[39m\u001b[93m↑ IrrationalConstants v0.1.1 ⇒ v0.2.2\u001b[39m\n",
      " \u001b[90m [692b3bcd] \u001b[39m\u001b[93m↑ JLLWrappers v1.4.1 ⇒ v1.5.0\u001b[39m\n",
      " \u001b[90m [682c06a0] \u001b[39m\u001b[93m↑ JSON v0.21.3 ⇒ v0.21.4\u001b[39m\n",
      " \u001b[90m [2ab3a3ac] \u001b[39m\u001b[93m↑ LogExpFunctions v0.3.19 ⇒ v0.3.28\u001b[39m\n",
      " \u001b[90m [e6f89c97] \u001b[39m\u001b[92m+ LoggingExtras v1.0.3\u001b[39m\n",
      " \u001b[90m [1914dd2f] \u001b[39m\u001b[93m↑ MacroTools v0.5.10 ⇒ v0.5.13\u001b[39m\n",
      " \u001b[90m [b8f27783] \u001b[39m\u001b[93m↑ MathOptInterface v1.11.1 ⇒ v1.31.0\u001b[39m\n",
      " \u001b[90m [739be429] \u001b[39m\u001b[93m↑ MbedTLS v1.1.7 ⇒ v1.1.9\u001b[39m\n",
      " \u001b[90m [d8a4904e] \u001b[39m\u001b[93m↑ MutableArithmetics v1.1.0 ⇒ v1.4.5\u001b[39m\n",
      " \u001b[90m [77ba4419] \u001b[39m\u001b[93m↑ NaNMath v1.0.1 ⇒ v1.0.2\u001b[39m\n",
      " \u001b[90m [4d8831e6] \u001b[39m\u001b[92m+ OpenSSL v1.4.3\u001b[39m\n",
      " \u001b[90m [bac558e1] \u001b[39m\u001b[93m↑ OrderedCollections v1.4.1 ⇒ v1.6.3\u001b[39m\n",
      " \u001b[90m [69de0a69] \u001b[39m\u001b[93m↑ Parsers v2.5.2 ⇒ v2.8.1\u001b[39m\n",
      " \u001b[90m [aea7be01] \u001b[39m\u001b[92m+ PrecompileTools v1.2.1\u001b[39m\n",
      " \u001b[90m [21216c6a] \u001b[39m\u001b[93m↑ Preferences v1.3.0 ⇒ v1.4.3\u001b[39m\n",
      " \u001b[90m [3cdcf5f2] \u001b[39m\u001b[92m+ RecipesBase v1.3.4\u001b[39m\n",
      " \u001b[90m [189a3867] \u001b[39m\u001b[92m+ Reexport v1.2.2\u001b[39m\n",
      " \u001b[90m [f4570300] \u001b[39m\u001b[92m+ SDDP v1.7.0\u001b[39m\n",
      " \u001b[90m [777ac1f9] \u001b[39m\u001b[92m+ SimpleBufferStream v1.1.0\u001b[39m\n",
      " \u001b[90m [66db9d55] \u001b[39m\u001b[91m- SnoopPrecompile v1.0.1\u001b[39m\n",
      " \u001b[90m [276daf66] \u001b[39m\u001b[93m↑ SpecialFunctions v2.1.7 ⇒ v2.4.0\u001b[39m\n",
      " \u001b[90m [90137ffa] \u001b[39m\u001b[93m↑ StaticArrays v1.5.12 ⇒ v1.9.7\u001b[39m\n",
      " \u001b[90m [1e83bf80] \u001b[39m\u001b[93m↑ StaticArraysCore v1.4.0 ⇒ v1.4.3\u001b[39m\n",
      " \u001b[90m [a759f4b9] \u001b[39m\u001b[92m+ TimerOutputs v0.5.24\u001b[39m\n",
      " \u001b[90m [3bb67fe8] \u001b[39m\u001b[93m↑ TranscodingStreams v0.9.10 ⇒ v0.11.0\u001b[39m\n",
      " \u001b[90m [5c2747f8] \u001b[39m\u001b[92m+ URIs v1.5.1\u001b[39m\n",
      " \u001b[90m [c2297ded] \u001b[39m\u001b[93m↑ ZMQ v1.2.2 ⇒ v1.2.6\u001b[39m\n",
      " \u001b[90m [6e34b625] \u001b[39m\u001b[93m↑ Bzip2_jll v1.0.8+0 ⇒ v1.0.8+1\u001b[39m\n",
      "\u001b[33m⌅\u001b[39m\u001b[90m [be027038] \u001b[39m\u001b[95m↓ CoinUtils_jll v200.1100.600+0 ⇒ v200.1100.400+0\u001b[39m\n",
      " \u001b[90m [458c3c95] \u001b[39m\u001b[92m+ OpenSSL_jll v3.0.14+0\u001b[39m\n",
      "\u001b[33m⌅\u001b[39m\u001b[90m [7da25872] \u001b[39m\u001b[95m↓ Osi_jll v0.10800.700+0 ⇒ v0.10800.600+0\u001b[39m\n",
      " \u001b[90m [8f1865be] \u001b[39m\u001b[93m↑ ZeroMQ_jll v4.3.4+0 ⇒ v4.3.5+0\u001b[39m\n",
      "\u001b[36m\u001b[1m        Info\u001b[22m\u001b[39m Packages marked with \u001b[33m⌅\u001b[39m have new versions available but compatibility constraints restrict them from upgrading. To see why use `status --outdated -m`\n",
      "\u001b[32m\u001b[1m    Building\u001b[22m\u001b[39m Conda → `C:\\Users\\atevs\\.julia\\scratchspaces\\44cfe95a-1eb2-52ea-b672-e2afdf69b78f\\b19db3927f0db4151cb86d073689f2428e524576\\build.log`\n",
      "\u001b[32m\u001b[1mPrecompiling\u001b[22m\u001b[39m project...\n",
      "\u001b[32m  ✓ \u001b[39m\u001b[90mReexport\u001b[39m\n",
      "\u001b[32m  ✓ \u001b[39m\u001b[90mExprTools\u001b[39m\n",
      "\u001b[32m  ✓ \u001b[39m\u001b[90mCompat\u001b[39m\n",
      "\u001b[32m  ✓ \u001b[39m\u001b[90mOrderedCollections\u001b[39m\n",
      "\u001b[32m  ✓ \u001b[39m\u001b[90mURIs\u001b[39m\n",
      "\u001b[32m  ✓ \u001b[39m\u001b[90mSimpleBufferStream\u001b[39m\n",
      "\u001b[32m  ✓ \u001b[39m\u001b[90mBitFlags\u001b[39m\n",
      "\u001b[32m  ✓ \u001b[39m\u001b[90mIrrationalConstants\u001b[39m\n",
      "\u001b[32m  ✓ \u001b[39m\u001b[90mExceptionUnwrapping\u001b[39m\n",
      "\u001b[32m  ✓ \u001b[39m\u001b[90mLoggingExtras\u001b[39m\n",
      "\u001b[32m  ✓ \u001b[39m\u001b[90mInverseFunctions\u001b[39m\n",
      "\u001b[32m  ✓ \u001b[39m\u001b[90mStaticArraysCore\u001b[39m\n",
      "\u001b[32m  ✓ \u001b[39m\u001b[90mConcurrentUtilities\u001b[39m\n",
      "\u001b[32m  ✓ \u001b[39m\u001b[90mNaNMath\u001b[39m\n",
      "\u001b[32m  ✓ \u001b[39m\u001b[90mPreferences\u001b[39m\n",
      "\u001b[32m  ✓ \u001b[39m\u001b[90mTranscodingStreams\u001b[39m\n",
      "\u001b[32m  ✓ \u001b[39m\u001b[90mMbedTLS\u001b[39m\n",
      "\u001b[32m  ✓ \u001b[39m\u001b[90mMacroTools\u001b[39m\n",
      "\u001b[32m  ✓ \u001b[39m\u001b[90mTimerOutputs\u001b[39m\n",
      "\u001b[32m  ✓ \u001b[39m\u001b[90mDiffResults\u001b[39m\n",
      "\u001b[32m  ✓ \u001b[39m\u001b[90mChangesOfVariables\u001b[39m\n",
      "\u001b[32m  ✓ \u001b[39m\u001b[90mChainRulesCore\u001b[39m\n",
      "\u001b[32m  ✓ \u001b[39m\u001b[90mCodecZlib\u001b[39m\n",
      "\u001b[32m  ✓ \u001b[39m\u001b[90mPrecompileTools\u001b[39m\n",
      "\u001b[32m  ✓ \u001b[39m\u001b[90mJLLWrappers\u001b[39m\n",
      "\u001b[32m  ✓ \u001b[39m\u001b[90mDataStructures\u001b[39m\n",
      "\u001b[32m  ✓ \u001b[39m\u001b[90mCommonSubexpressions\u001b[39m\n",
      "\u001b[32m  ✓ \u001b[39m\u001b[90mOpenSSL_jll\u001b[39m\n",
      "\u001b[32m  ✓ \u001b[39m\u001b[90mASL_jll\u001b[39m\n",
      "\u001b[32m  ✓ \u001b[39m\u001b[90mRecipesBase\u001b[39m\n",
      "\u001b[32m  ✓ \u001b[39m\u001b[90mLogExpFunctions\u001b[39m\n",
      "\u001b[32m  ✓ \u001b[39m\u001b[90mMutableArithmetics\u001b[39m\n",
      "\u001b[32m  ✓ \u001b[39m\u001b[90mBzip2_jll\u001b[39m\n",
      "\u001b[32m  ✓ \u001b[39m\u001b[90mlibsodium_jll\u001b[39m\n",
      "\u001b[32m  ✓ \u001b[39m\u001b[90mOpenSpecFun_jll\u001b[39m\n",
      "\u001b[32m  ✓ \u001b[39m\u001b[90mOpenBLAS32_jll\u001b[39m\n",
      "\u001b[32m  ✓ \u001b[39m\u001b[90mMETIS_jll\u001b[39m\n",
      "\u001b[32m  ✓ \u001b[39m\u001b[90mCodecBzip2\u001b[39m\n",
      "\u001b[32m  ✓ \u001b[39m\u001b[90mZeroMQ_jll\u001b[39m\n",
      "\u001b[32m  ✓ \u001b[39m\u001b[90mOpenSSL\u001b[39m\n",
      "\u001b[32m  ✓ \u001b[39m\u001b[90mCoinUtils_jll\u001b[39m\n",
      "\u001b[32m  ✓ \u001b[39m\u001b[90mMUMPS_seq_jll\u001b[39m\n",
      "\u001b[32m  ✓ \u001b[39m\u001b[90mOsi_jll\u001b[39m\n",
      "\u001b[32m  ✓ \u001b[39m\u001b[90mIpopt_jll\u001b[39m\n",
      "\u001b[32m  ✓ \u001b[39m\u001b[90mZMQ\u001b[39m\n",
      "\u001b[32m  ✓ \u001b[39m\u001b[90mClp_jll\u001b[39m\n",
      "\u001b[32m  ✓ \u001b[39m\u001b[90mSpecialFunctions\u001b[39m\n",
      "\u001b[32m  ✓ \u001b[39m\u001b[90mHTTP\u001b[39m\n",
      "\u001b[32m  ✓ \u001b[39m\u001b[90mDiffRules\u001b[39m\n",
      "\u001b[32m  ✓ \u001b[39m\u001b[90mStaticArrays\u001b[39m\n",
      "\u001b[32m  ✓ \u001b[39m\u001b[90mForwardDiff\u001b[39m\n",
      "\u001b[32m  ✓ \u001b[39m\u001b[90mParsers\u001b[39m\n",
      "\u001b[32m  ✓ \u001b[39m\u001b[90mJSON\u001b[39m\n",
      "\u001b[32m  ✓ \u001b[39m\u001b[90mConda\u001b[39m\n",
      "\u001b[32m  ✓ \u001b[39m\u001b[90mBenchmarkTools\u001b[39m\n",
      "\u001b[32m  ✓ \u001b[39mIJulia\n",
      "\u001b[32m  ✓ \u001b[39m\u001b[90mMathOptInterface\u001b[39m\n",
      "\u001b[91m  ✗ \u001b[39mGurobi\n",
      "\u001b[32m  ✓ \u001b[39mIpopt\n",
      "\u001b[32m  ✓ \u001b[39mJuniper\n",
      "\u001b[32m  ✓ \u001b[39mJuMP\n",
      "\u001b[32m  ✓ \u001b[39mClp\n",
      "\u001b[32m  ✓ \u001b[39mAlpine\n",
      "\u001b[32m  ✓ \u001b[39mSDDP\n",
      "  63 dependencies successfully precompiled in 89 seconds. 11 already precompiled.\n",
      "  \u001b[91m1\u001b[39m dependency errored. To see a full report either run `import Pkg; Pkg.precompile()` or load the package\n"
     ]
    }
   ],
   "source": [
    "import Pkg\n",
    "Pkg.add(\"SDDP\")"
   ]
  },
  {
   "cell_type": "code",
   "execution_count": 1,
   "metadata": {},
   "outputs": [
    {
     "data": {
      "text/plain": [
       "3"
      ]
     },
     "metadata": {},
     "output_type": "display_data"
    }
   ],
   "source": [
    "#initializing parameters\n",
    "n = 100\n",
    "N = 50\n",
    "r = 70\n",
    "R = 160\n",
    "r_l = [30, 50, 70]\n",
    "n_stages = 3"
   ]
  },
  {
   "cell_type": "code",
   "execution_count": 3,
   "metadata": {},
   "outputs": [
    {
     "data": {
      "text/plain": [
       "2-element Vector{Float64}:\n",
       " 0.5\n",
       " 0.5"
      ]
     },
     "metadata": {},
     "output_type": "display_data"
    }
   ],
   "source": [
    "#parameterization\n",
    "Ω_b = [30.0, 50.0]\n",
    "P_b = [1 / 2, 1 / 2]\n",
    "Ω_p = [10.0, 25.0]\n",
    "P_p = [1 / 2, 1 / 2]"
   ]
  },
  {
   "cell_type": "code",
   "execution_count": 6,
   "metadata": {},
   "outputs": [
    {
     "data": {
      "text/plain": [
       "2×2 Matrix{Tuple{Float64, Float64}}:\n",
       " (30.0, 10.0)  (30.0, 25.0)\n",
       " (50.0, 10.0)  (50.0, 25.0)"
      ]
     },
     "metadata": {},
     "output_type": "display_data"
    }
   ],
   "source": [
    "Iterators.product(Ω_b, Ω_p) |> collect"
   ]
  },
  {
   "cell_type": "code",
   "execution_count": 7,
   "metadata": {},
   "outputs": [
    {
     "data": {
      "text/plain": [
       "2×2 Matrix{Float64}:\n",
       " 0.25  0.25\n",
       " 0.25  0.25"
      ]
     },
     "metadata": {},
     "output_type": "display_data"
    }
   ],
   "source": [
    "map(x -> x[1] * x[2], (Iterators.product(P_b, P_p) |> collect))"
   ]
  },
  {
   "cell_type": "code",
   "execution_count": 4,
   "metadata": {},
   "outputs": [
    {
     "data": {
      "text/plain": [
       "subproblem_builder (generic function with 1 method)"
      ]
     },
     "metadata": {},
     "output_type": "display_data"
    }
   ],
   "source": [
    "function subproblem_builder(subproblem::Model, node::Int, Ω_b::Vector{Float64}, Ω_p::Vector{Float64}, P_b::Vector{Float64}, P_p::Vector{Float64})\n",
    "    # State variables\n",
    "    @variable(subproblem, 0 <= I_b <= 2 * n, SDDP.State, initial_value = 0)           #total basic custs at the end of stage t\n",
    "    @variable(subproblem, 0 <= I_p <= 2 * N, SDDP.State, initial_value = 0)           #total premium custs at the end of stage t\n",
    "    # Control variables\n",
    "    @variables(subproblem, begin\n",
    "        u[1:length(r_l)], (Bin, SDDP.State, initial_value = 0)                        #an upgrade offered at price level l\n",
    "        q >= 0, (SDDP.State, initial_value = 0)                                       #overbooking limit\n",
    "        y_b >= 0                                                                      #basic custs rejected\n",
    "        y_p >= 0                                                                      #premium custs rejected\n",
    "        x >= 0                                                                        #new accepted upgrades\n",
    "        z_b >= 0                                                                      #new true basic custs\n",
    "        z_p >= 0                                                                      #new true premium custs\n",
    "    end)\n",
    "    if stage == n_stages:\n",
    "        @variables(subproblem, begin\n",
    "            w_b >= 0                                                                  #basic custs without a room (in the end)\n",
    "            w_p >= 0                                                                  #premium custs without a room (in the end)\n",
    "            g[1:length(r_l)] >= 0                                                     #total upgrades granted at price level l\n",
    "        end)\n",
    "    # Random variables\n",
    "    @variable(subproblem, d_b)\n",
    "    @variable(subproblem, d_p)\n",
    "    Ω = Iterators.product(Ω_b, Ω_p) |> collect\n",
    "    P = map(x -> x[1] * x[2], (Iterators.product(P_b, P_p) |> collect))\n",
    "    SDDP.parameterize(subproblem, Ω, P) do ω\n",
    "        return JuMP.fix((d_b, d_p), ω)\n",
    "    end\n",
    "    # Transition function and constraints\n",
    "    @constraints(\n",
    "        subproblem,\n",
    "        begin\n",
    "            d_b - y_b == z_b + x\n",
    "            d_p == z_p + y_p\n",
    "            x == (d_b - y_b) * p(u)  ##########IMPLEMENT p####################\n",
    "            z_b == (d_b - y_b) * (1 - p(u))  ##########IMPLEMENT p####################\n",
    "\n",
    "            I_b.out == I_b.in + z_b\n",
    "            I_b.out <= n + q\n",
    "            I_p.out == I_p.in + z_p + q\n",
    "        end\n",
    "    )\n",
    "    # Stage-objective\n",
    "    if node == n_stages\n",
    "        @stageobjective(subproblem, 50 * thermal_generation)\n",
    "    end\n",
    "    return subproblem\n",
    "end"
   ]
  },
  {
   "cell_type": "code",
   "execution_count": 7,
   "metadata": {},
   "outputs": [],
   "source": [
    "using HiGHS"
   ]
  },
  {
   "cell_type": "code",
   "execution_count": 9,
   "metadata": {},
   "outputs": [
    {
     "data": {
      "text/plain": [
       "A policy graph with 3 nodes.\n",
       " Node indices: 1, 2, 3\n"
      ]
     },
     "metadata": {},
     "output_type": "display_data"
    }
   ],
   "source": [
    "model = SDDP.LinearPolicyGraph(\n",
    "    subproblem_builder;\n",
    "    stages = 3,\n",
    "    sense = :Min,\n",
    "    lower_bound = 0.0,\n",
    "    optimizer = HiGHS.Optimizer,\n",
    ")"
   ]
  },
  {
   "cell_type": "code",
   "execution_count": 10,
   "metadata": {},
   "outputs": [
    {
     "name": "stdout",
     "output_type": "stream",
     "text": [
      "-------------------------------------------------------------------\n",
      "         SDDP.jl (c) Oscar Dowson and contributors, 2017-23\n",
      "-------------------------------------------------------------------\n",
      "problem\n",
      "  nodes           : 3\n",
      "  state variables : 1\n",
      "  scenarios       : 2.70000e+01\n",
      "  existing cuts   : false\n",
      "options\n",
      "  solver          : serial mode\n",
      "  risk measure    : SDDP.Expectation()\n",
      "  sampling scheme : SDDP.InSampleMonteCarlo\n",
      "subproblem structure\n",
      "  VariableRef                             : [7, 7]\n",
      "  AffExpr in MOI.EqualTo{Float64}         : [2, 2]\n",
      "  VariableRef in MOI.GreaterThan{Float64} : [5, 5]\n",
      "  VariableRef in MOI.LessThan{Float64}    : [1, 2]\n",
      "numerical stability report\n",
      "  matrix range     [1e+00, 1e+00]\n",
      "  objective range  [1e+00, 2e+02]\n",
      "  bounds range     [2e+02, 2e+02]\n",
      "  rhs range        [2e+02, 2e+02]\n",
      "-------------------------------------------------------------------\n",
      " iteration    simulation      bound        time (s)     solves  pid\n",
      "-------------------------------------------------------------------\n",
      "         1   2.000000e+04  2.500000e+03  9.225000e+00        12   1\n",
      "        10   1.250000e+04  8.333333e+03  9.758000e+00       120   1\n",
      "-------------------------------------------------------------------\n",
      "status         : iteration_limit\n",
      "total time (s) : 9.758000e+00\n",
      "total solves   : 120\n",
      "best bound     :  8.333333e+03\n",
      "simulation ci  :  1.287500e+04 ± 2.968221e+03\n",
      "numeric issues : 0\n",
      "-------------------------------------------------------------------\n",
      "\n"
     ]
    }
   ],
   "source": [
    "SDDP.train(model; iteration_limit = 10)"
   ]
  },
  {
   "cell_type": "code",
   "execution_count": 11,
   "metadata": {},
   "outputs": [
    {
     "data": {
      "text/plain": [
       "A decision rule for node 1"
      ]
     },
     "metadata": {},
     "output_type": "display_data"
    }
   ],
   "source": [
    "rule = SDDP.DecisionRule(model; node = 1)"
   ]
  },
  {
   "cell_type": "code",
   "execution_count": 12,
   "metadata": {},
   "outputs": [
    {
     "data": {
      "text/plain": [
       "(stage_objective = 7500.0, outgoing_state = Dict(:volume => 200.0), controls = Dict(:thermal_generation => 150.0, :hydro_generation => -0.0))"
      ]
     },
     "metadata": {},
     "output_type": "display_data"
    }
   ],
   "source": [
    "solution = SDDP.evaluate(\n",
    "    rule;\n",
    "    incoming_state = Dict(:volume => 150.0),\n",
    "    noise = 50.0,\n",
    "    controls_to_record = [:hydro_generation, :thermal_generation],\n",
    ")"
   ]
  },
  {
   "cell_type": "code",
   "execution_count": null,
   "metadata": {},
   "outputs": [],
   "source": []
  }
 ],
 "metadata": {
  "kernelspec": {
   "display_name": "Julia 1.8.3",
   "language": "julia",
   "name": "julia-1.8"
  },
  "language_info": {
   "file_extension": ".jl",
   "mimetype": "application/julia",
   "name": "julia",
   "version": "1.8.3"
  }
 },
 "nbformat": 4,
 "nbformat_minor": 2
}
